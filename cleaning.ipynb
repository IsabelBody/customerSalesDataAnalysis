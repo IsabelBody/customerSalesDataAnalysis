{
 "cells": [
  {
   "cell_type": "markdown",
   "metadata": {},
   "source": [
    "# Cleaning Data Phase\n",
    "-----------"
   ]
  },
  {
   "cell_type": "code",
   "execution_count": 1,
   "metadata": {},
   "outputs": [],
   "source": [
    "import pandas as pd \n",
    "sales_df = pd.read_csv('sales.csv')\n",
    "customer_df = pd.read_excel('customer.xlsx')\n"
   ]
  },
  {
   "cell_type": "markdown",
   "metadata": {},
   "source": [
    "## Looking at data "
   ]
  },
  {
   "cell_type": "code",
   "execution_count": 2,
   "metadata": {},
   "outputs": [
    {
     "data": {
      "text/html": [
       "<div>\n",
       "<style scoped>\n",
       "    .dataframe tbody tr th:only-of-type {\n",
       "        vertical-align: middle;\n",
       "    }\n",
       "\n",
       "    .dataframe tbody tr th {\n",
       "        vertical-align: top;\n",
       "    }\n",
       "\n",
       "    .dataframe thead th {\n",
       "        text-align: right;\n",
       "    }\n",
       "</style>\n",
       "<table border=\"1\" class=\"dataframe\">\n",
       "  <thead>\n",
       "    <tr style=\"text-align: right;\">\n",
       "      <th></th>\n",
       "      <th>customers_id</th>\n",
       "      <th>gender</th>\n",
       "      <th>age</th>\n",
       "    </tr>\n",
       "  </thead>\n",
       "  <tbody>\n",
       "    <tr>\n",
       "      <th>0</th>\n",
       "      <td>CUST001</td>\n",
       "      <td>Male</td>\n",
       "      <td>34</td>\n",
       "    </tr>\n",
       "    <tr>\n",
       "      <th>1</th>\n",
       "      <td>CUST002</td>\n",
       "      <td>Female</td>\n",
       "      <td>26</td>\n",
       "    </tr>\n",
       "    <tr>\n",
       "      <th>2</th>\n",
       "      <td>CUST003</td>\n",
       "      <td>Male</td>\n",
       "      <td>50</td>\n",
       "    </tr>\n",
       "    <tr>\n",
       "      <th>3</th>\n",
       "      <td>CUST004</td>\n",
       "      <td>Male</td>\n",
       "      <td>37</td>\n",
       "    </tr>\n",
       "    <tr>\n",
       "      <th>4</th>\n",
       "      <td>CUST005</td>\n",
       "      <td>Male</td>\n",
       "      <td>30</td>\n",
       "    </tr>\n",
       "  </tbody>\n",
       "</table>\n",
       "</div>"
      ],
      "text/plain": [
       "  customers_id  gender  age\n",
       "0      CUST001    Male   34\n",
       "1      CUST002  Female   26\n",
       "2      CUST003    Male   50\n",
       "3      CUST004    Male   37\n",
       "4      CUST005    Male   30"
      ]
     },
     "execution_count": 2,
     "metadata": {},
     "output_type": "execute_result"
    }
   ],
   "source": [
    "customer_df.head()"
   ]
  },
  {
   "cell_type": "code",
   "execution_count": 3,
   "metadata": {},
   "outputs": [
    {
     "data": {
      "text/html": [
       "<div>\n",
       "<style scoped>\n",
       "    .dataframe tbody tr th:only-of-type {\n",
       "        vertical-align: middle;\n",
       "    }\n",
       "\n",
       "    .dataframe tbody tr th {\n",
       "        vertical-align: top;\n",
       "    }\n",
       "\n",
       "    .dataframe thead th {\n",
       "        text-align: right;\n",
       "    }\n",
       "</style>\n",
       "<table border=\"1\" class=\"dataframe\">\n",
       "  <thead>\n",
       "    <tr style=\"text-align: right;\">\n",
       "      <th></th>\n",
       "      <th>transaction_id</th>\n",
       "      <th>date</th>\n",
       "      <th>customer_id</th>\n",
       "      <th>category</th>\n",
       "      <th>units</th>\n",
       "      <th>sales</th>\n",
       "    </tr>\n",
       "  </thead>\n",
       "  <tbody>\n",
       "    <tr>\n",
       "      <th>0</th>\n",
       "      <td>562S2779I14713HB</td>\n",
       "      <td>2/01/2023</td>\n",
       "      <td>CUST522</td>\n",
       "      <td>Beauty</td>\n",
       "      <td>6</td>\n",
       "      <td>24</td>\n",
       "    </tr>\n",
       "    <tr>\n",
       "      <th>1</th>\n",
       "      <td>316Y4029X49673UM</td>\n",
       "      <td>2/01/2023</td>\n",
       "      <td>CUST180</td>\n",
       "      <td>Clothing</td>\n",
       "      <td>5</td>\n",
       "      <td>60</td>\n",
       "    </tr>\n",
       "    <tr>\n",
       "      <th>2</th>\n",
       "      <td>302L3674R67861RZ</td>\n",
       "      <td>2/01/2023</td>\n",
       "      <td>CUST303</td>\n",
       "      <td>Electronics</td>\n",
       "      <td>1</td>\n",
       "      <td>48</td>\n",
       "    </tr>\n",
       "    <tr>\n",
       "      <th>3</th>\n",
       "      <td>638S2782Q44402JD</td>\n",
       "      <td>5/01/2023</td>\n",
       "      <td>CUST610</td>\n",
       "      <td>Beauty</td>\n",
       "      <td>3</td>\n",
       "      <td>9</td>\n",
       "    </tr>\n",
       "    <tr>\n",
       "      <th>4</th>\n",
       "      <td>637D2741D89311LY</td>\n",
       "      <td>5/01/2023</td>\n",
       "      <td>CUST367</td>\n",
       "      <td>Electronics</td>\n",
       "      <td>1</td>\n",
       "      <td>39</td>\n",
       "    </tr>\n",
       "  </tbody>\n",
       "</table>\n",
       "</div>"
      ],
      "text/plain": [
       "     transaction_id       date customer_id     category  units  sales\n",
       "0  562S2779I14713HB  2/01/2023     CUST522       Beauty      6     24\n",
       "1  316Y4029X49673UM  2/01/2023     CUST180     Clothing      5     60\n",
       "2  302L3674R67861RZ  2/01/2023     CUST303  Electronics      1     48\n",
       "3  638S2782Q44402JD  5/01/2023     CUST610       Beauty      3      9\n",
       "4  637D2741D89311LY  5/01/2023     CUST367  Electronics      1     39"
      ]
     },
     "execution_count": 3,
     "metadata": {},
     "output_type": "execute_result"
    }
   ],
   "source": [
    "sales_df.head()"
   ]
  },
  {
   "cell_type": "code",
   "execution_count": 4,
   "metadata": {},
   "outputs": [
    {
     "data": {
      "text/html": [
       "<div>\n",
       "<style scoped>\n",
       "    .dataframe tbody tr th:only-of-type {\n",
       "        vertical-align: middle;\n",
       "    }\n",
       "\n",
       "    .dataframe tbody tr th {\n",
       "        vertical-align: top;\n",
       "    }\n",
       "\n",
       "    .dataframe thead th {\n",
       "        text-align: right;\n",
       "    }\n",
       "</style>\n",
       "<table border=\"1\" class=\"dataframe\">\n",
       "  <thead>\n",
       "    <tr style=\"text-align: right;\">\n",
       "      <th></th>\n",
       "      <th>age</th>\n",
       "    </tr>\n",
       "  </thead>\n",
       "  <tbody>\n",
       "    <tr>\n",
       "      <th>count</th>\n",
       "      <td>1000.000000</td>\n",
       "    </tr>\n",
       "    <tr>\n",
       "      <th>mean</th>\n",
       "      <td>41.463000</td>\n",
       "    </tr>\n",
       "    <tr>\n",
       "      <th>std</th>\n",
       "      <td>14.285402</td>\n",
       "    </tr>\n",
       "    <tr>\n",
       "      <th>min</th>\n",
       "      <td>0.000000</td>\n",
       "    </tr>\n",
       "    <tr>\n",
       "      <th>25%</th>\n",
       "      <td>29.000000</td>\n",
       "    </tr>\n",
       "    <tr>\n",
       "      <th>50%</th>\n",
       "      <td>42.000000</td>\n",
       "    </tr>\n",
       "    <tr>\n",
       "      <th>75%</th>\n",
       "      <td>53.000000</td>\n",
       "    </tr>\n",
       "    <tr>\n",
       "      <th>max</th>\n",
       "      <td>165.000000</td>\n",
       "    </tr>\n",
       "  </tbody>\n",
       "</table>\n",
       "</div>"
      ],
      "text/plain": [
       "               age\n",
       "count  1000.000000\n",
       "mean     41.463000\n",
       "std      14.285402\n",
       "min       0.000000\n",
       "25%      29.000000\n",
       "50%      42.000000\n",
       "75%      53.000000\n",
       "max     165.000000"
      ]
     },
     "execution_count": 4,
     "metadata": {},
     "output_type": "execute_result"
    }
   ],
   "source": [
    "customer_df.describe()"
   ]
  },
  {
   "cell_type": "code",
   "execution_count": 5,
   "metadata": {},
   "outputs": [
    {
     "data": {
      "text/html": [
       "<div>\n",
       "<style scoped>\n",
       "    .dataframe tbody tr th:only-of-type {\n",
       "        vertical-align: middle;\n",
       "    }\n",
       "\n",
       "    .dataframe tbody tr th {\n",
       "        vertical-align: top;\n",
       "    }\n",
       "\n",
       "    .dataframe thead th {\n",
       "        text-align: right;\n",
       "    }\n",
       "</style>\n",
       "<table border=\"1\" class=\"dataframe\">\n",
       "  <thead>\n",
       "    <tr style=\"text-align: right;\">\n",
       "      <th></th>\n",
       "      <th>units</th>\n",
       "      <th>sales</th>\n",
       "    </tr>\n",
       "  </thead>\n",
       "  <tbody>\n",
       "    <tr>\n",
       "      <th>count</th>\n",
       "      <td>1026.000000</td>\n",
       "      <td>1026.000000</td>\n",
       "    </tr>\n",
       "    <tr>\n",
       "      <th>mean</th>\n",
       "      <td>4.850877</td>\n",
       "      <td>226.075049</td>\n",
       "    </tr>\n",
       "    <tr>\n",
       "      <th>std</th>\n",
       "      <td>3.466943</td>\n",
       "      <td>596.613696</td>\n",
       "    </tr>\n",
       "    <tr>\n",
       "      <th>min</th>\n",
       "      <td>1.000000</td>\n",
       "      <td>3.000000</td>\n",
       "    </tr>\n",
       "    <tr>\n",
       "      <th>25%</th>\n",
       "      <td>2.000000</td>\n",
       "      <td>42.000000</td>\n",
       "    </tr>\n",
       "    <tr>\n",
       "      <th>50%</th>\n",
       "      <td>4.000000</td>\n",
       "      <td>90.000000</td>\n",
       "    </tr>\n",
       "    <tr>\n",
       "      <th>75%</th>\n",
       "      <td>6.000000</td>\n",
       "      <td>162.000000</td>\n",
       "    </tr>\n",
       "    <tr>\n",
       "      <th>max</th>\n",
       "      <td>21.000000</td>\n",
       "      <td>5529.000000</td>\n",
       "    </tr>\n",
       "  </tbody>\n",
       "</table>\n",
       "</div>"
      ],
      "text/plain": [
       "             units        sales\n",
       "count  1026.000000  1026.000000\n",
       "mean      4.850877   226.075049\n",
       "std       3.466943   596.613696\n",
       "min       1.000000     3.000000\n",
       "25%       2.000000    42.000000\n",
       "50%       4.000000    90.000000\n",
       "75%       6.000000   162.000000\n",
       "max      21.000000  5529.000000"
      ]
     },
     "execution_count": 5,
     "metadata": {},
     "output_type": "execute_result"
    }
   ],
   "source": [
    "sales_df.describe()"
   ]
  },
  {
   "cell_type": "code",
   "execution_count": 6,
   "metadata": {},
   "outputs": [
    {
     "data": {
      "text/plain": [
       "customers_id    object\n",
       "gender          object\n",
       "age              int64\n",
       "dtype: object"
      ]
     },
     "execution_count": 6,
     "metadata": {},
     "output_type": "execute_result"
    }
   ],
   "source": [
    "customer_df.dtypes"
   ]
  },
  {
   "cell_type": "code",
   "execution_count": 7,
   "metadata": {},
   "outputs": [
    {
     "data": {
      "text/plain": [
       "transaction_id    object\n",
       "date              object\n",
       "customer_id       object\n",
       "category          object\n",
       "units              int64\n",
       "sales              int64\n",
       "dtype: object"
      ]
     },
     "execution_count": 7,
     "metadata": {},
     "output_type": "execute_result"
    }
   ],
   "source": [
    "sales_df.dtypes"
   ]
  },
  {
   "cell_type": "markdown",
   "metadata": {},
   "source": [
    "## Clean Sales Data"
   ]
  },
  {
   "cell_type": "markdown",
   "metadata": {},
   "source": [
    "#### General Checks "
   ]
  },
  {
   "cell_type": "code",
   "execution_count": 8,
   "metadata": {},
   "outputs": [
    {
     "data": {
      "text/html": [
       "<div>\n",
       "<style scoped>\n",
       "    .dataframe tbody tr th:only-of-type {\n",
       "        vertical-align: middle;\n",
       "    }\n",
       "\n",
       "    .dataframe tbody tr th {\n",
       "        vertical-align: top;\n",
       "    }\n",
       "\n",
       "    .dataframe thead th {\n",
       "        text-align: right;\n",
       "    }\n",
       "</style>\n",
       "<table border=\"1\" class=\"dataframe\">\n",
       "  <thead>\n",
       "    <tr style=\"text-align: right;\">\n",
       "      <th></th>\n",
       "      <th>transaction_id</th>\n",
       "      <th>date</th>\n",
       "      <th>customer_id</th>\n",
       "      <th>category</th>\n",
       "      <th>units</th>\n",
       "      <th>sales</th>\n",
       "    </tr>\n",
       "  </thead>\n",
       "  <tbody>\n",
       "    <tr>\n",
       "      <th>917</th>\n",
       "      <td>475Z1559L69748FV</td>\n",
       "      <td>5/12/2023</td>\n",
       "      <td>CUST997</td>\n",
       "      <td>Beauty</td>\n",
       "      <td>4</td>\n",
       "      <td>52</td>\n",
       "    </tr>\n",
       "    <tr>\n",
       "      <th>918</th>\n",
       "      <td>475Z1559L69748FV</td>\n",
       "      <td>5/12/2023</td>\n",
       "      <td>CUST997</td>\n",
       "      <td>Beauty</td>\n",
       "      <td>1</td>\n",
       "      <td>18</td>\n",
       "    </tr>\n",
       "  </tbody>\n",
       "</table>\n",
       "</div>"
      ],
      "text/plain": [
       "       transaction_id       date customer_id category  units  sales\n",
       "917  475Z1559L69748FV  5/12/2023     CUST997   Beauty      4     52\n",
       "918  475Z1559L69748FV  5/12/2023     CUST997   Beauty      1     18"
      ]
     },
     "execution_count": 8,
     "metadata": {},
     "output_type": "execute_result"
    }
   ],
   "source": [
    "sales_df = sales_df.dropna()  # Remove rows with any missing values\n",
    "\n",
    "# Check for duplicate transactions\n",
    "duplicate_ids = sales_df[sales_df.duplicated(subset='transaction_id', keep=False)]\n",
    "duplicate_ids\n"
   ]
  },
  {
   "cell_type": "markdown",
   "metadata": {},
   "source": [
    "Assuming these duplicate transactions represent different transactions and that customers making more than one \n",
    "transaction may buy less per sale, the best option is to aggregate these sales to sum units & sales."
   ]
  },
  {
   "cell_type": "code",
   "execution_count": 9,
   "metadata": {},
   "outputs": [
    {
     "data": {
      "text/plain": [
       "0"
      ]
     },
     "execution_count": 9,
     "metadata": {},
     "output_type": "execute_result"
    }
   ],
   "source": [
    "# Aggregating transactions\n",
    "sales_df = sales_df.groupby('transaction_id', as_index=False).agg({\n",
    "    'date': 'first',\n",
    "    'customer_id': 'first',\n",
    "    'category': 'first',\n",
    "    'units': 'sum',\n",
    "    'sales': 'sum'\n",
    "})\n",
    "\n",
    "# All duplicates are resolved. \n",
    "sales_df[sales_df.duplicated(subset='transaction_id', keep=False)].count().transaction_id"
   ]
  },
  {
   "cell_type": "markdown",
   "metadata": {},
   "source": [
    "#### Cleaning fields"
   ]
  },
  {
   "cell_type": "code",
   "execution_count": 10,
   "metadata": {},
   "outputs": [],
   "source": [
    "   \n",
    "def clean_dates(df):\n",
    "    \n",
    "    date_column = 'date'\n",
    "    # Convert the date column to datetime\n",
    "    df[date_column] = pd.to_datetime(df[date_column], dayfirst=True, errors='coerce')\n",
    "    \n",
    "    # Drop rows with invalid dates\n",
    "    df.dropna(subset=[date_column], inplace=True)\n",
    "    \n",
    "    # Filter out dates outside the desired range (1995 to present)\n",
    "    min_date = pd.Timestamp('01-01-1995')\n",
    "    max_date = pd.Timestamp.now()\n",
    "    df = df[(df[date_column] >= min_date) & (df[date_column] <= max_date)]\n",
    "    \n",
    "    return df\n",
    "    "
   ]
  },
  {
   "cell_type": "code",
   "execution_count": 11,
   "metadata": {},
   "outputs": [],
   "source": [
    "def clean_category(df, categories, corrections=None):\n",
    "    \"\"\"\n",
    "    Cleans known misspelled categories. \n",
    "    Suggests misspelled categories for uncorrected categories.\n",
    "    \n",
    "    args:\n",
    "        categories: list of valid categories\n",
    "        corrections: optional dict, mapping misspelled categories to correct categories.\n",
    "    \"\"\"\n",
    "    \n",
    "    # Correct misspelled categories\n",
    "    if corrections:\n",
    "        df['category'].replace(corrections, inplace=True)\n",
    "    \n",
    "    \n",
    "    \n",
    "    # Confirm categories align with the original list\n",
    "    if sorted(df['category'].unique()) == sorted(categories):\n",
    "        print(\"Categories Align with Category List.\")\n",
    "    else:\n",
    "        # Check for misspelled categories\n",
    "        misspelled = df[~df['category'].isin(categories)]\n",
    "        print(\"Misspelled Categories:\")\n",
    "        print(misspelled)\n",
    "        \n",
    "    df['category'] = df['category'].astype('category')\n",
    "\n",
    "    return df\n"
   ]
  },
  {
   "cell_type": "code",
   "execution_count": 12,
   "metadata": {},
   "outputs": [],
   "source": [
    "def clean_units(df):\n",
    "    # Remove rows with units <= 0\n",
    "    df = df[df['units'] > 0]\n",
    "\n",
    "    # Ensure units are discrete (round to the nearest integer)\n",
    "    df['units'] = df['units'].round().astype(int)\n",
    "    return df\n",
    "\n",
    "\n",
    "def clean_sales(df):\n",
    "    # Remove rows with sales <= 0\n",
    "    df = df[df['sales'] > 0]\n",
    "\n",
    "    return df\n"
   ]
  },
  {
   "cell_type": "code",
   "execution_count": 13,
   "metadata": {},
   "outputs": [
    {
     "name": "stdout",
     "output_type": "stream",
     "text": [
      "Categories Align with Category List.\n",
      "        transaction_id       date customer_id     category  units  sales\n",
      "0     100S5713W16321BY 2023-08-18     CUST878     Clothing      3     63\n",
      "1     100U7280H90017IB 2023-09-21     CUST563     Clothing      7    126\n",
      "2     100X9564D67104YE 2023-10-02     CUST154  Electronics      4    192\n",
      "3     100Y9513C90580VX 2023-04-09     CUST278     Clothing      4    104\n",
      "4     102I4872M87046QG 2023-08-05     CUST887     Clothing      4     72\n",
      "...                ...        ...         ...          ...    ...    ...\n",
      "1020  996Q6275M29535AL 2023-11-03     CUST181  Electronics      4     96\n",
      "1021  998I9676Q63781FY 2023-01-23     CUST049  Electronics      6    150\n",
      "1022  998K1605I95937EC 2023-02-08     CUST284     Clothing      7    112\n",
      "1023  998K7968J56499ON 2023-10-09     CUST201  Electronics      1     23\n",
      "1024  998L2365H91680ZU 2023-06-05     CUST902       Beauty      7    161\n",
      "\n",
      "[1022 rows x 6 columns]\n",
      "transaction_id            object\n",
      "date              datetime64[ns]\n",
      "customer_id               object\n",
      "category                category\n",
      "units                      int32\n",
      "sales                      int64\n",
      "dtype: object\n"
     ]
    }
   ],
   "source": [
    "\n",
    "def clean_sales_table(df):\n",
    "    \"\"\"\n",
    "    Returns cleaned dataframe by iterating over cleaning functions.\n",
    "    \"\"\"\n",
    "    for clean_func in cleaning_functions:\n",
    "        df = clean_func(df)\n",
    "    return df\n",
    "    \n",
    "    \n",
    "# Corrections for categories\n",
    "corrections = {'Be4uty': 'Beauty', 'Electronic': 'Electronics'}\n",
    "\n",
    "cleaning_functions = [clean_dates, \n",
    "                      lambda x: clean_category(x, ['Electronics', 'Beauty', 'Clothing'], corrections),\n",
    "                      clean_units,\n",
    "                      clean_sales]\n",
    "\n",
    "sales_df = clean_sales_table(sales_df)\n",
    "\n",
    "print(sales_df)\n",
    "print(sales_df.dtypes)\n"
   ]
  },
  {
   "cell_type": "markdown",
   "metadata": {},
   "source": [
    "## Clean Customer Data\n",
    "#### General Checks "
   ]
  },
  {
   "cell_type": "code",
   "execution_count": 14,
   "metadata": {},
   "outputs": [
    {
     "data": {
      "text/html": [
       "<div>\n",
       "<style scoped>\n",
       "    .dataframe tbody tr th:only-of-type {\n",
       "        vertical-align: middle;\n",
       "    }\n",
       "\n",
       "    .dataframe tbody tr th {\n",
       "        vertical-align: top;\n",
       "    }\n",
       "\n",
       "    .dataframe thead th {\n",
       "        text-align: right;\n",
       "    }\n",
       "</style>\n",
       "<table border=\"1\" class=\"dataframe\">\n",
       "  <thead>\n",
       "    <tr style=\"text-align: right;\">\n",
       "      <th></th>\n",
       "      <th>customer_id</th>\n",
       "      <th>gender</th>\n",
       "      <th>age</th>\n",
       "    </tr>\n",
       "  </thead>\n",
       "  <tbody>\n",
       "  </tbody>\n",
       "</table>\n",
       "</div>"
      ],
      "text/plain": [
       "Empty DataFrame\n",
       "Columns: [customer_id, gender, age]\n",
       "Index: []"
      ]
     },
     "execution_count": 14,
     "metadata": {},
     "output_type": "execute_result"
    }
   ],
   "source": [
    "# Join columns should share the same name\n",
    "customer_df.rename(columns={'customers_id':'customer_id'}, inplace=True)\n",
    "\n",
    "customer_df = customer_df.dropna()  # Remove rows with any missing values\n",
    "\n",
    "# Check for duplicate customers\n",
    "duplicate_ids = customer_df[customer_df.duplicated(subset='customer_id', keep=False)]\n",
    "duplicate_ids\n",
    "\n"
   ]
  },
  {
   "cell_type": "markdown",
   "metadata": {},
   "source": [
    "#### Cleaning fields"
   ]
  },
  {
   "cell_type": "code",
   "execution_count": 15,
   "metadata": {},
   "outputs": [],
   "source": [
    "def clean_gender(df):\n",
    "    # Restrict to only Male & Female\n",
    "    \n",
    "    accepted_values = ['Male', 'Female','M', 'F']\n",
    "    \n",
    "    df['gender'] = df['gender'].str.title()\n",
    "\n",
    "    # values not accepted will be set to NA\n",
    "    df.loc[~df['gender'].isin(accepted_values), 'gender'] = pd.NA\n",
    "\n",
    "    # NAs dropped\n",
    "    df = df.dropna(subset=['gender']) \n",
    "   \n",
    "    df['gender'] = df['gender'].astype('category')\n",
    "    \n",
    "    return df\n",
    "    "
   ]
  },
  {
   "cell_type": "code",
   "execution_count": 16,
   "metadata": {},
   "outputs": [],
   "source": [
    "def clean_age(df):    \n",
    "    #  age range: 18 - 120\n",
    "    df = df[(df['age'] >= 18) & (df['age'] <= 120)]\n",
    "\n",
    "    # replace missing values with median\n",
    "    df.loc[df['age'].isna(), 'age'] = df['age'].median()\n",
    "\n",
    "    return df"
   ]
  },
  {
   "cell_type": "code",
   "execution_count": 17,
   "metadata": {},
   "outputs": [
    {
     "name": "stdout",
     "output_type": "stream",
     "text": [
      "    customer_id  gender  age\n",
      "0       CUST001    Male   34\n",
      "1       CUST002  Female   26\n",
      "2       CUST003    Male   50\n",
      "3       CUST004    Male   37\n",
      "4       CUST005    Male   30\n",
      "..          ...     ...  ...\n",
      "994     CUST995  Female   41\n",
      "995     CUST996    Male   62\n",
      "996     CUST997    Male   52\n",
      "997     CUST998  Female   23\n",
      "999    CUST1000    Male   47\n",
      "\n",
      "[996 rows x 3 columns]\n",
      "customer_id      object\n",
      "gender         category\n",
      "age               int64\n",
      "dtype: object\n",
      "              age\n",
      "count  996.000000\n",
      "mean    41.404618\n",
      "std     13.691282\n",
      "min     18.000000\n",
      "25%     29.000000\n",
      "50%     42.000000\n",
      "75%     53.000000\n",
      "max     64.000000\n"
     ]
    }
   ],
   "source": [
    "\n",
    "def clean_customer_table(df):\n",
    "    \"\"\"\n",
    "    Returns cleaned dataframe by iterating over cleaning functions.\n",
    "    \"\"\"\n",
    "    for clean_func in cleaning_functions:\n",
    "        df = clean_func(df)\n",
    "    return df\n",
    "\n",
    "\n",
    "cleaning_functions = [clean_gender, clean_age]\n",
    "customer_df = clean_customer_table(customer_df)\n",
    "\n",
    "print(customer_df)\n",
    "print(customer_df.dtypes)\n",
    "print(customer_df.describe())"
   ]
  },
  {
   "cell_type": "markdown",
   "metadata": {},
   "source": [
    "## Merging tables"
   ]
  },
  {
   "cell_type": "code",
   "execution_count": 18,
   "metadata": {},
   "outputs": [
    {
     "name": "stdout",
     "output_type": "stream",
     "text": [
      "Duplicate sales by customers:\n",
      "Empty DataFrame\n",
      "Columns: [transaction_id, date, customer_id, category, units, sales]\n",
      "Index: []\n"
     ]
    }
   ],
   "source": [
    "# Checking for duplicate sales by customers\n",
    "duplicate_customers = sales_df[sales_df.duplicated(subset=['customer_id'], keep=False)]\n",
    "print(\"Duplicate sales by customers:\")\n",
    "print(duplicate_customers)"
   ]
  },
  {
   "cell_type": "markdown",
   "metadata": {},
   "source": [
    "As there are no duplicate sales by customers (other than the previously aggregated), we can assume that there is no repeat customer purchases.\n",
    "Therefore, the assumption of independence will not be violated as we merge these tables. "
   ]
  },
  {
   "cell_type": "code",
   "execution_count": 19,
   "metadata": {},
   "outputs": [],
   "source": [
    "\n",
    "def clean_customer_id(df):\n",
    "    # cleaning so I can sort by customer_id \n",
    "    \n",
    "    # Remove CUST from each ID\n",
    "    df['customer_id'] = df['customer_id'].str.replace('CUST', '')\n",
    "\n",
    "    df['customer_id'] = pd.to_numeric(df['customer_id'], errors='coerce')\n",
    "\n",
    "    \n",
    "    return df \n",
    "\n"
   ]
  },
  {
   "cell_type": "code",
   "execution_count": 20,
   "metadata": {},
   "outputs": [
    {
     "name": "stdout",
     "output_type": "stream",
     "text": [
      "transaction_id            object\n",
      "sales                      int64\n",
      "date              datetime64[ns]\n",
      "category                category\n",
      "units                      int32\n",
      "gender                  category\n",
      "age                        int64\n",
      "dtype: object\n"
     ]
    },
    {
     "data": {
      "text/html": [
       "<div>\n",
       "<style scoped>\n",
       "    .dataframe tbody tr th:only-of-type {\n",
       "        vertical-align: middle;\n",
       "    }\n",
       "\n",
       "    .dataframe tbody tr th {\n",
       "        vertical-align: top;\n",
       "    }\n",
       "\n",
       "    .dataframe thead th {\n",
       "        text-align: right;\n",
       "    }\n",
       "</style>\n",
       "<table border=\"1\" class=\"dataframe\">\n",
       "  <thead>\n",
       "    <tr style=\"text-align: right;\">\n",
       "      <th></th>\n",
       "      <th>sales</th>\n",
       "      <th>date</th>\n",
       "      <th>units</th>\n",
       "      <th>age</th>\n",
       "    </tr>\n",
       "  </thead>\n",
       "  <tbody>\n",
       "    <tr>\n",
       "      <th>count</th>\n",
       "      <td>982.000000</td>\n",
       "      <td>982</td>\n",
       "      <td>982.000000</td>\n",
       "      <td>982.000000</td>\n",
       "    </tr>\n",
       "    <tr>\n",
       "      <th>mean</th>\n",
       "      <td>200.336049</td>\n",
       "      <td>2023-07-09 17:05:00.610998016</td>\n",
       "      <td>4.681263</td>\n",
       "      <td>41.401222</td>\n",
       "    </tr>\n",
       "    <tr>\n",
       "      <th>min</th>\n",
       "      <td>3.000000</td>\n",
       "      <td>2023-01-02 00:00:00</td>\n",
       "      <td>1.000000</td>\n",
       "      <td>18.000000</td>\n",
       "    </tr>\n",
       "    <tr>\n",
       "      <th>25%</th>\n",
       "      <td>40.000000</td>\n",
       "      <td>2023-04-24 12:00:00</td>\n",
       "      <td>2.000000</td>\n",
       "      <td>29.250000</td>\n",
       "    </tr>\n",
       "    <tr>\n",
       "      <th>50%</th>\n",
       "      <td>90.000000</td>\n",
       "      <td>2023-07-19 00:00:00</td>\n",
       "      <td>4.000000</td>\n",
       "      <td>42.000000</td>\n",
       "    </tr>\n",
       "    <tr>\n",
       "      <th>75%</th>\n",
       "      <td>158.250000</td>\n",
       "      <td>2023-10-04 00:00:00</td>\n",
       "      <td>6.000000</td>\n",
       "      <td>53.000000</td>\n",
       "    </tr>\n",
       "    <tr>\n",
       "      <th>max</th>\n",
       "      <td>5529.000000</td>\n",
       "      <td>2024-01-01 00:00:00</td>\n",
       "      <td>21.000000</td>\n",
       "      <td>64.000000</td>\n",
       "    </tr>\n",
       "    <tr>\n",
       "      <th>std</th>\n",
       "      <td>523.742816</td>\n",
       "      <td>NaN</td>\n",
       "      <td>3.154408</td>\n",
       "      <td>13.707514</td>\n",
       "    </tr>\n",
       "  </tbody>\n",
       "</table>\n",
       "</div>"
      ],
      "text/plain": [
       "             sales                           date       units         age\n",
       "count   982.000000                            982  982.000000  982.000000\n",
       "mean    200.336049  2023-07-09 17:05:00.610998016    4.681263   41.401222\n",
       "min       3.000000            2023-01-02 00:00:00    1.000000   18.000000\n",
       "25%      40.000000            2023-04-24 12:00:00    2.000000   29.250000\n",
       "50%      90.000000            2023-07-19 00:00:00    4.000000   42.000000\n",
       "75%     158.250000            2023-10-04 00:00:00    6.000000   53.000000\n",
       "max    5529.000000            2024-01-01 00:00:00   21.000000   64.000000\n",
       "std     523.742816                            NaN    3.154408   13.707514"
      ]
     },
     "execution_count": 20,
     "metadata": {},
     "output_type": "execute_result"
    }
   ],
   "source": [
    "\n",
    "# inner join is default\n",
    "df = pd.merge(sales_df, customer_df, on='customer_id')\n",
    "\n",
    "# Reorder columns and drop customer id \n",
    "df = df[[\"transaction_id\", \"sales\", \"date\", \"category\", \"units\",  \"gender\", \"age\"]]\n",
    "\n",
    "print(df.dtypes)\n",
    "df.describe()\n",
    "\n"
   ]
  },
  {
   "cell_type": "code",
   "execution_count": 21,
   "metadata": {},
   "outputs": [
    {
     "data": {
      "text/html": [
       "<div>\n",
       "<style scoped>\n",
       "    .dataframe tbody tr th:only-of-type {\n",
       "        vertical-align: middle;\n",
       "    }\n",
       "\n",
       "    .dataframe tbody tr th {\n",
       "        vertical-align: top;\n",
       "    }\n",
       "\n",
       "    .dataframe thead th {\n",
       "        text-align: right;\n",
       "    }\n",
       "</style>\n",
       "<table border=\"1\" class=\"dataframe\">\n",
       "  <thead>\n",
       "    <tr style=\"text-align: right;\">\n",
       "      <th></th>\n",
       "      <th>transaction_id</th>\n",
       "      <th>sales</th>\n",
       "      <th>date</th>\n",
       "      <th>category</th>\n",
       "      <th>units</th>\n",
       "      <th>gender</th>\n",
       "      <th>age</th>\n",
       "    </tr>\n",
       "  </thead>\n",
       "  <tbody>\n",
       "    <tr>\n",
       "      <th>0</th>\n",
       "      <td>100S5713W16321BY</td>\n",
       "      <td>63</td>\n",
       "      <td>2023-08-18</td>\n",
       "      <td>Clothing</td>\n",
       "      <td>3</td>\n",
       "      <td>Female</td>\n",
       "      <td>20</td>\n",
       "    </tr>\n",
       "    <tr>\n",
       "      <th>1</th>\n",
       "      <td>100U7280H90017IB</td>\n",
       "      <td>126</td>\n",
       "      <td>2023-09-21</td>\n",
       "      <td>Clothing</td>\n",
       "      <td>7</td>\n",
       "      <td>Male</td>\n",
       "      <td>20</td>\n",
       "    </tr>\n",
       "    <tr>\n",
       "      <th>2</th>\n",
       "      <td>100X9564D67104YE</td>\n",
       "      <td>192</td>\n",
       "      <td>2023-10-02</td>\n",
       "      <td>Electronics</td>\n",
       "      <td>4</td>\n",
       "      <td>Male</td>\n",
       "      <td>51</td>\n",
       "    </tr>\n",
       "    <tr>\n",
       "      <th>3</th>\n",
       "      <td>100Y9513C90580VX</td>\n",
       "      <td>104</td>\n",
       "      <td>2023-04-09</td>\n",
       "      <td>Clothing</td>\n",
       "      <td>4</td>\n",
       "      <td>Female</td>\n",
       "      <td>37</td>\n",
       "    </tr>\n",
       "    <tr>\n",
       "      <th>4</th>\n",
       "      <td>102I4872M87046QG</td>\n",
       "      <td>72</td>\n",
       "      <td>2023-08-05</td>\n",
       "      <td>Clothing</td>\n",
       "      <td>4</td>\n",
       "      <td>Male</td>\n",
       "      <td>59</td>\n",
       "    </tr>\n",
       "    <tr>\n",
       "      <th>...</th>\n",
       "      <td>...</td>\n",
       "      <td>...</td>\n",
       "      <td>...</td>\n",
       "      <td>...</td>\n",
       "      <td>...</td>\n",
       "      <td>...</td>\n",
       "      <td>...</td>\n",
       "    </tr>\n",
       "    <tr>\n",
       "      <th>977</th>\n",
       "      <td>996Q6275M29535AL</td>\n",
       "      <td>96</td>\n",
       "      <td>2023-11-03</td>\n",
       "      <td>Electronics</td>\n",
       "      <td>4</td>\n",
       "      <td>Male</td>\n",
       "      <td>19</td>\n",
       "    </tr>\n",
       "    <tr>\n",
       "      <th>978</th>\n",
       "      <td>998I9676Q63781FY</td>\n",
       "      <td>150</td>\n",
       "      <td>2023-01-23</td>\n",
       "      <td>Electronics</td>\n",
       "      <td>6</td>\n",
       "      <td>Female</td>\n",
       "      <td>54</td>\n",
       "    </tr>\n",
       "    <tr>\n",
       "      <th>979</th>\n",
       "      <td>998K1605I95937EC</td>\n",
       "      <td>112</td>\n",
       "      <td>2023-02-08</td>\n",
       "      <td>Clothing</td>\n",
       "      <td>7</td>\n",
       "      <td>Male</td>\n",
       "      <td>43</td>\n",
       "    </tr>\n",
       "    <tr>\n",
       "      <th>980</th>\n",
       "      <td>998K7968J56499ON</td>\n",
       "      <td>23</td>\n",
       "      <td>2023-10-09</td>\n",
       "      <td>Electronics</td>\n",
       "      <td>1</td>\n",
       "      <td>Male</td>\n",
       "      <td>56</td>\n",
       "    </tr>\n",
       "    <tr>\n",
       "      <th>981</th>\n",
       "      <td>998L2365H91680ZU</td>\n",
       "      <td>161</td>\n",
       "      <td>2023-06-05</td>\n",
       "      <td>Beauty</td>\n",
       "      <td>7</td>\n",
       "      <td>Female</td>\n",
       "      <td>54</td>\n",
       "    </tr>\n",
       "  </tbody>\n",
       "</table>\n",
       "<p>982 rows × 7 columns</p>\n",
       "</div>"
      ],
      "text/plain": [
       "       transaction_id  sales       date     category  units  gender  age\n",
       "0    100S5713W16321BY     63 2023-08-18     Clothing      3  Female   20\n",
       "1    100U7280H90017IB    126 2023-09-21     Clothing      7    Male   20\n",
       "2    100X9564D67104YE    192 2023-10-02  Electronics      4    Male   51\n",
       "3    100Y9513C90580VX    104 2023-04-09     Clothing      4  Female   37\n",
       "4    102I4872M87046QG     72 2023-08-05     Clothing      4    Male   59\n",
       "..                ...    ...        ...          ...    ...     ...  ...\n",
       "977  996Q6275M29535AL     96 2023-11-03  Electronics      4    Male   19\n",
       "978  998I9676Q63781FY    150 2023-01-23  Electronics      6  Female   54\n",
       "979  998K1605I95937EC    112 2023-02-08     Clothing      7    Male   43\n",
       "980  998K7968J56499ON     23 2023-10-09  Electronics      1    Male   56\n",
       "981  998L2365H91680ZU    161 2023-06-05       Beauty      7  Female   54\n",
       "\n",
       "[982 rows x 7 columns]"
      ]
     },
     "execution_count": 21,
     "metadata": {},
     "output_type": "execute_result"
    }
   ],
   "source": [
    "df"
   ]
  },
  {
   "cell_type": "code",
   "execution_count": 22,
   "metadata": {},
   "outputs": [],
   "source": [
    "\n",
    "# df.to_csv('cleaned.csv', index=False)\n",
    "\n",
    "# serialize df \n",
    "df.to_pickle(\"data.pkl\")"
   ]
  }
 ],
 "metadata": {
  "kernelspec": {
   "display_name": "base",
   "language": "python",
   "name": "python3"
  },
  "language_info": {
   "codemirror_mode": {
    "name": "ipython",
    "version": 3
   },
   "file_extension": ".py",
   "mimetype": "text/x-python",
   "name": "python",
   "nbconvert_exporter": "python",
   "pygments_lexer": "ipython3",
   "version": "3.11.7"
  }
 },
 "nbformat": 4,
 "nbformat_minor": 2
}
