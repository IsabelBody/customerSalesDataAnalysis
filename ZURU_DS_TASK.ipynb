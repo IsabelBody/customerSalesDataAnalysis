{
 "cells": [
  {
   "cell_type": "markdown",
   "metadata": {},
   "source": [
    "## ZURU Data Science Task\n",
    "\n",
    "The purpose of this task is to evaluate your ability to:\n",
    " - Explore and understand new data\n",
    " - Manipulate data to derive business value\n",
    " - Generate and explain insights clearly\n",
    "\n",
    " #### Background:\n",
    "The commercial team has been sent some data from Amazon US containing transactional and customer information. The team knows this data could provide some great insights but are unsure exactly what those insights could be. They have asked if you could explore the data to see what sort of valuable insights you can pull out. They mentioned they would especially like to understand the following:\n",
    "- Seasonality\n",
    "- The relationship between spending, age, and category preferences\n",
    "- Pricing distribution\n",
    "- Demographics\n",
    "\n",
    "Be sure to thoroughly explain your thought process and findings through well-documented code. Include any cleaning and/or preperation steps. We ideally want this task to be completed entirely within Python, as we want to guage your profiency here but if there is anything you either cant complete in a timely manner using Python or you would typically use another software/language to do - please include this in your documentation. This is expected to take 1-3hrs - there is no need to go into more detail than this.\n",
    "\n",
    "#### Presenting your findings:\n",
    "The team has also asked that you prepare a short presentation (using Powerpoint, Google Slides, or similar) - this presentation should clearly explain what you did, why you did it, and what you found. This should be targetted towards a non-technical audience with no data science background. We will start with this in your follow-up interview then have you walk us through your code.\n"
   ]
  },
  {
   "cell_type": "code",
   "execution_count": null,
   "metadata": {},
   "outputs": [],
   "source": [
    "# Be sure to add comments, feel free to structure however you'd like"
   ]
  }
 ],
 "metadata": {
  "language_info": {
   "name": "python"
  }
 },
 "nbformat": 4,
 "nbformat_minor": 2
}
